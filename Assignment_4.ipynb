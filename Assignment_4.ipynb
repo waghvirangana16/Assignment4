{
 "cells": [
  {
   "cell_type": "code",
   "execution_count": 11,
   "id": "310cd49d",
   "metadata": {},
   "outputs": [
    {
     "name": "stdout",
     "output_type": "stream",
     "text": [
      "Enter a Number 10\n",
      "output is  35\n"
     ]
    }
   ],
   "source": [
    "#Adding 35 to given number\n",
    "x=int(input(\"Enter a Number \"))\n",
    "z=lambda x:x+25\n",
    "print(\"output is \",z(x))"
   ]
  },
  {
   "cell_type": "code",
   "execution_count": 12,
   "id": "6d056afd",
   "metadata": {},
   "outputs": [
    {
     "name": "stdout",
     "output_type": "stream",
     "text": [
      "1 2 3 4 5 6 7 \n",
      "Triple of the numbers is  [3, 6, 9, 12, 15, 18, 21]\n"
     ]
    }
   ],
   "source": [
    "#Triple of the list numbers\n",
    "x=list(map(int,input().split()))\n",
    "z=list(map(lambda x:x*3,x))\n",
    "print(\"Triple of the numbers is \",z)"
   ]
  },
  {
   "cell_type": "code",
   "execution_count": 10,
   "id": "3b6d57ee",
   "metadata": {},
   "outputs": [
    {
     "name": "stdout",
     "output_type": "stream",
     "text": [
      "4 5 2 9\n",
      "Square of the numbers is  [16, 25, 4, 81]\n"
     ]
    }
   ],
   "source": [
    "#square of the list numbers\n",
    "x=list(map(int,input().split()))\n",
    "z=list(map(lambda x:x**2,x))\n",
    "print(\"Square of the numbers is \",z)"
   ]
  },
  {
   "cell_type": "code",
   "execution_count": null,
   "id": "76711630",
   "metadata": {},
   "outputs": [],
   "source": []
  }
 ],
 "metadata": {
  "kernelspec": {
   "display_name": "Python 3 (ipykernel)",
   "language": "python",
   "name": "python3"
  },
  "language_info": {
   "codemirror_mode": {
    "name": "ipython",
    "version": 3
   },
   "file_extension": ".py",
   "mimetype": "text/x-python",
   "name": "python",
   "nbconvert_exporter": "python",
   "pygments_lexer": "ipython3",
   "version": "3.9.12"
  }
 },
 "nbformat": 4,
 "nbformat_minor": 5
}
